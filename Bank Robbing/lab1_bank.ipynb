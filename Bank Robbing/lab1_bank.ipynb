{
 "cells": [
  {
   "cell_type": "markdown",
   "metadata": {},
   "source": [
    "# Solution to the preparatory lab \n",
    "In this notebook, we use the following modules `numpy` and `maze`. The latter is a home made module, where all the solutions to the questions are implemented. We will refer to it at each answer, and we encourage you to read it."
   ]
  },
  {
   "cell_type": "code",
   "execution_count": 1,
   "metadata": {},
   "outputs": [],
   "source": [
    "import numpy as np\n",
    "import pandas as pd\n",
    "import matplotlib.pyplot as plt\n",
    "import bank as bk\n",
    "import bankSolver as bs\n",
    "%load_ext autoreload\n",
    "%autoreload 2"
   ]
  },
  {
   "cell_type": "markdown",
   "metadata": {},
   "source": [
    "# Problem 3: Bank robbing\n",
    "\n",
    "The objective of problem 3 is to maximize the amount of money collected without being caught by the police."
   ]
  },
  {
   "cell_type": "code",
   "execution_count": 2,
   "metadata": {},
   "outputs": [],
   "source": [
    "# Description of the town as a numpy array\n",
    "# 1 is the robber starting position\n",
    "# 2 is the police starting position\n",
    "# 3 is the bank position\n",
    "town = np.array([\n",
    "    [1, 0, 0, 0],\n",
    "    [0, 3, 0 ,0],\n",
    "    [0, 0, 0, 0],\n",
    "    [0, 0, 0, 2]\n",
    "])\n",
    "# Bank instance\n",
    "bank   = bk.Bank(town)"
   ]
  },
  {
   "cell_type": "code",
   "execution_count": null,
   "metadata": {},
   "outputs": [],
   "source": [
    "# Q-learning\n",
    "Q, P = bs.Q_learning(bank, lmbda=0.8, T=10000000)"
   ]
  },
  {
   "cell_type": "code",
   "execution_count": 55,
   "metadata": {},
   "outputs": [
    {
     "name": "stderr",
     "output_type": "stream",
     "text": [
      "100%|████████████████████████████████████████████████████████████████| 10000000/10000000 [06:25<00:00, 25909.01it/s]\n"
     ]
    }
   ],
   "source": [
    "# SARSA\n",
    "Q, P, Q_graph = bs.sarsa(bank, lmbda=0.8, eps=0.1, T=10000000)"
   ]
  },
  {
   "cell_type": "code",
   "execution_count": 54,
   "metadata": {},
   "outputs": [],
   "source": [
    "# Save the policy if needed\n",
    "np.save('sarsa_policy_lmbda8_eps1', P)"
   ]
  },
  {
   "cell_type": "code",
   "execution_count": null,
   "metadata": {},
   "outputs": [],
   "source": [
    "P = np.load('policy.npy')"
   ]
  },
  {
   "cell_type": "code",
   "execution_count": 60,
   "metadata": {},
   "outputs": [],
   "source": [
    "# Possible to pass player and police coordinates\n",
    "path, path_enemy = bank.simulate(P, tlimit=10)"
   ]
  },
  {
   "cell_type": "code",
   "execution_count": 61,
   "metadata": {},
   "outputs": [
    {
     "data": {
      "text/plain": [
       "([(0, 0),\n",
       "  (0, 0),\n",
       "  (1, 0),\n",
       "  (1, 1),\n",
       "  (1, 1),\n",
       "  (1, 1),\n",
       "  (0, 1),\n",
       "  (1, 1),\n",
       "  (2, 1),\n",
       "  (1, 1)],\n",
       " [(3, 3),\n",
       "  (2, 3),\n",
       "  (2, 2),\n",
       "  (2, 3),\n",
       "  (1, 3),\n",
       "  (1, 2),\n",
       "  (2, 2),\n",
       "  (2, 1),\n",
       "  (1, 1),\n",
       "  (1, 2)])"
      ]
     },
     "execution_count": 61,
     "metadata": {},
     "output_type": "execute_result"
    }
   ],
   "source": [
    "path, path_enemy"
   ]
  },
  {
   "cell_type": "code",
   "execution_count": 62,
   "metadata": {},
   "outputs": [
    {
     "data": {
      "image/png": "[encoded data removed]",
      "text/plain": [
       "<Figure size 288x288 with 1 Axes>"
      ]
     },
     "metadata": {},
     "output_type": "display_data"
    }
   ],
   "source": [
    "bk.animate_solution(town, path, path_enemy)"
   ]
  },
  {
   "cell_type": "code",
   "execution_count": 63,
   "metadata": {},
   "outputs": [],
   "source": [
    "player_pos = (1,1)\n",
    "joints     = [bank.jointStates2id[(player_pos, p)] for p in bank.coords]"
   ]
  },
  {
   "cell_type": "code",
   "execution_count": 64,
   "metadata": {},
   "outputs": [
    {
     "name": "stdout",
     "output_type": "stream",
     "text": [
      "state :  ((1, 1), (0, 0))\n",
      "policy:  stay\n",
      "state :  ((1, 1), (0, 1))\n",
      "policy:  move up\n",
      "state :  ((1, 1), (0, 2))\n",
      "policy:  stay\n",
      "state :  ((1, 1), (0, 3))\n",
      "policy:  stay\n",
      "state :  ((1, 1), (1, 0))\n",
      "policy:  move down\n",
      "state :  ((1, 1), (1, 1))\n",
      "policy:  stay\n",
      "state :  ((1, 1), (1, 2))\n",
      "policy:  move up\n",
      "state :  ((1, 1), (1, 3))\n",
      "policy:  stay\n",
      "state :  ((1, 1), (2, 0))\n",
      "policy:  stay\n",
      "state :  ((1, 1), (2, 1))\n",
      "policy:  move down\n",
      "state :  ((1, 1), (2, 2))\n",
      "policy:  stay\n",
      "state :  ((1, 1), (2, 3))\n",
      "policy:  stay\n",
      "state :  ((1, 1), (3, 0))\n",
      "policy:  stay\n",
      "state :  ((1, 1), (3, 1))\n",
      "policy:  stay\n",
      "state :  ((1, 1), (3, 2))\n",
      "policy:  stay\n",
      "state :  ((1, 1), (3, 3))\n",
      "policy:  stay\n"
     ]
    }
   ],
   "source": [
    "for s in joints:\n",
    "    print('state : ', bank.id2jointStates[s])\n",
    "    print('policy: ', bank.actions_names[P[s]])"
   ]
  },
  {
   "cell_type": "markdown",
   "metadata": {},
   "source": [
    "### Convergence"
   ]
  },
  {
   "cell_type": "code",
   "execution_count": 37,
   "metadata": {},
   "outputs": [],
   "source": [
    "Q_graph_0 = [x[0] for x in Q_graph]\n",
    "Q_graph_1 = [x[1] for x in Q_graph]\n",
    "Q_graph_2 = [x[2] for x in Q_graph]\n",
    "Q_graph_3 = [x[3] for x in Q_graph]\n",
    "Q_graph_4 = [x[4] for x in Q_graph]"
   ]
  },
  {
   "cell_type": "code",
   "execution_count": 38,
   "metadata": {},
   "outputs": [
    {
     "data": {
      "text/plain": [
       "86"
      ]
     },
     "execution_count": 38,
     "metadata": {},
     "output_type": "execute_result"
    }
   ],
   "source": [
    "bank.jointStates2id[((1,1), (1,2))]"
   ]
  },
  {
   "cell_type": "code",
   "execution_count": 46,
   "metadata": {},
   "outputs": [
    {
     "data": {
      "text/plain": [
       "[<matplotlib.lines.Line2D at 0x1f80795ac48>]"
      ]
     },
     "execution_count": 46,
     "metadata": {},
     "output_type": "execute_result"
    },
    {
     "data": {
      "image/png": "[encoded data removed]",
      "text/plain": [
       "<Figure size 432x288 with 1 Axes>"
      ]
     },
     "metadata": {
      "needs_background": "light"
     },
     "output_type": "display_data"
    }
   ],
   "source": [
    "tps = range(len(Q_graph_0))\n",
    "plt.plot(tps, Q_graph_0)"
   ]
  },
  {
   "cell_type": "code",
   "execution_count": null,
   "metadata": {},
   "outputs": [],
   "source": []
  }
 ],
 "metadata": {
  "@webio": {
   "lastCommId": null,
   "lastKernelId": null
  },
  "kernelspec": {
   "display_name": "Python (python37)",
   "language": "python",
   "name": "python37"
  },
  "language_info": {
   "codemirror_mode": {
    "name": "ipython",
    "version": 3
   },
   "file_extension": ".py",
   "mimetype": "text/x-python",
   "name": "python",
   "nbconvert_exporter": "python",
   "pygments_lexer": "ipython3",
   "version": "3.7.4"
  }
 },
 "nbformat": 4,
 "nbformat_minor": 4
}
